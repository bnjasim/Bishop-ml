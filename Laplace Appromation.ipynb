{
 "cells": [
  {
   "cell_type": "markdown",
   "metadata": {},
   "source": [
    "# Laplace Approximation of Density Functions"
   ]
  },
  {
   "cell_type": "code",
   "execution_count": 12,
   "metadata": {
    "collapsed": true
   },
   "outputs": [],
   "source": [
    "%matplotlib inline\n",
    "\n",
    "import numpy as np\n",
    "import matplotlib.pyplot as plt\n",
    "\n",
    "def sigmoid(x):\n",
    "  return 1 / (1 + np.exp(-x))"
   ]
  },
  {
   "cell_type": "markdown",
   "metadata": {},
   "source": [
    "We will try to approximate the function $ e^\\left(- \\frac{z^2}{2}\\right) \\frac{1}{1+e^{-(20z+4)}} $ using a gaussian distribution.\n",
    "\n",
    "Below shows the plot of this function (which is a gaussian altered by a sigmoid function). Its normalization constant was found by numerical integration as 1.45119."
   ]
  },
  {
   "cell_type": "code",
   "execution_count": 19,
   "metadata": {
    "collapsed": false
   },
   "outputs": [
    {
     "data": {
      "image/png": "[encoded data removed]",
      "text/plain": [
       "<matplotlib.figure.Figure at 0x9303b38>"
      ]
     },
     "metadata": {},
     "output_type": "display_data"
    }
   ],
   "source": [
    "z = np.arange(-2, 4, 0.02)\n",
    "\n",
    "y = np.exp(-(z * z)/2) * sigmoid(20*z + 4) / 1.45119\n",
    "\n",
    "plt.plot(z, y)\n",
    "plt.ylabel('y')\n",
    "plt.xlabel('z')\n",
    "plt.show()\n"
   ]
  },
  {
   "cell_type": "markdown",
   "metadata": {},
   "source": [
    "##### How to Find the Mode?\n",
    "Use any <a href=\"https://en.wikipedia.org/wiki/Root-finding_algorithm\">Root Finding</a> algorithm to find the mode. (At the mode the derivative of f is equal to 0)"
   ]
  }
 ],
 "metadata": {
  "kernelspec": {
   "display_name": "Python [Root]",
   "language": "python",
   "name": "Python [Root]"
  },
  "language_info": {
   "codemirror_mode": {
    "name": "ipython",
    "version": 2
   },
   "file_extension": ".py",
   "mimetype": "text/x-python",
   "name": "python",
   "nbconvert_exporter": "python",
   "pygments_lexer": "ipython2",
   "version": "2.7.9"
  }
 },
 "nbformat": 4,
 "nbformat_minor": 0
}
